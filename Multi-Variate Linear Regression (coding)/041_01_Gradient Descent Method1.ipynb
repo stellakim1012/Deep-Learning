{
 "cells": [
  {
   "cell_type": "markdown",
   "metadata": {},
   "source": [
    "# Multi-variate Linear Regression Example\n",
    "\n",
    "## Programming Lab: 041_01 Gradient Descent Method\n",
    "\n",
    "이번 실습에서는 기본적인 NumPy와 Matplotlib의 사용법을 익히고, Gradient Descent Method을 이용하여 predictor를 학습시켜 봅니다.\n",
    "\n",
    "실습은 다음과 같은 단계로 이루어집니다.\n",
    "\n",
    "<ul>\n",
    "    <li> Step.1 Data Samples </li>    \n",
    "    교재의 학습 데이터를 입력합니다.\n",
    "    <li> Step.2 Gradient Descent Method (1) : Batch Gradient Descent</li>\n",
    "    cost function에 대해 GDM을 이용하여 predictor를 학습시킵니다.\n",
    "    <li> Step.2 Gradient Descent Method (2) : Stochastic Gradient Descent (SGD)</li>\n",
    "    loss function에 대해 GDM을 이용하여 predictor를 학습시킵니다.\n",
    "</ul>\n",
    "\n",
    "먼저 다음 셀을 실행시켜 필요한 library들을 import하세요."
   ]
  },
  {
   "cell_type": "code",
   "execution_count": 1,
   "metadata": {},
   "outputs": [],
   "source": [
    "import numpy as np\n",
    "import matplotlib.pyplot as plt\n",
    "import matplotlib.cm as cm\n",
    "import matplotlib as mpl\n",
    "\n",
    "plt.style.use('seaborn')\n",
    "np.random.seed(0)"
   ]
  },
  {
   "cell_type": "markdown",
   "metadata": {},
   "source": [
    "## Step.1 Input dataset\n",
    "\n",
    "***\n",
    "### Data Samples\n",
    "\n",
    "linear regression model을 학습시키기 위한 dataset을 먼저 입력합니다. dataset은\n",
    "\n",
    "(x1, x2, y) = (2, 0, 81), (4, 4, 93), (6, 2, 91), (8, 3, 97)\n",
    "\n",
    "***\n",
    "**Programming**\n",
    "\n",
    "이번 실습에서는 교재에서 사용한 4개의 data sample들을 Numpy array로 입력합니다.\n",
    "\n",
    "(Hint.1) data를 2차원 리스트로 생성"
   ]
  },
  {
   "cell_type": "code",
   "execution_count": 3,
   "metadata": {},
   "outputs": [
    {
     "data": {
      "text/plain": [
       "<mpl_toolkits.mplot3d.art3d.Path3DCollection at 0x1b6cd1faee0>"
      ]
     },
     "execution_count": 3,
     "metadata": {},
     "output_type": "execute_result"
    }
   ],
   "source": [
    "##### Start Your Code(Dataset Generation) #####\n",
    "data = [[2, 0, 81], [4, 4, 93], [6, 2, 91], [8, 3, 97]]\n",
    "##### End Your Code(Dataset Generation) #####\n",
    "\n",
    "# Convert to Numpy Array\n",
    "x1_data = np.array([i[0] for i in data])\n",
    "x2_data = np.array([i[1] for i in data])\n",
    "y_data = np.array([i[2] for i in data])\n",
    "\n",
    "%matplotlib qt\n",
    "\n",
    "# Dataset Visualization\n",
    "ax = plt.axes(projection='3d')\n",
    "ax.set_xlabel('study_hours')\n",
    "ax.set_ylabel('private_class')\n",
    "ax.set_zlabel('Score')\n",
    "ax.dist = 11 \n",
    "ax.scatter(x1_data, x2_data, y_data)"
   ]
  },
  {
   "cell_type": "markdown",
   "metadata": {},
   "source": [
    "**Expected Output**  \n",
    "<img src=\"./imgs/01_01.png\">"
   ]
  },
  {
   "cell_type": "markdown",
   "metadata": {},
   "source": [
    "## Step.2 Gradient Descent Method (1) : Batch Gradient Descent\n",
    "\n",
    "위의 dataset에 따라 predictor는\n",
    "$$ \\hat{y} = w_{1}x_{1} + w_{2}x_{2} + b$$\n",
    "로 설정할 수 있습니다.\n",
    "\n",
    "그리고 dataset에 대한 cost($\\mathcal{J}$)는 \n",
    "$$ \\mathcal{J} = \\frac{1}{2n} \\sum_{i=1}^N (\\hat{y}^{(i)} - y^{(i)})^{2} = \\frac{1}{2n} \\sum_{i=1}^N  ((w_{1}x_{1}^{(i)}+w_{2}x_{2}^{(i)}+b) - y^{(i)})^{2}$$\n",
    "로 정의됩니다.\n",
    "\n",
    "따라서 $w_{1}, w_{2}, b$에 대한 $\\mathcal{J}$의 partial derivative는\n",
    "$$ \\frac{\\partial \\mathcal{J}}{\\partial w_{1}} = \\frac{1}{n} \\sum_{i=1}^N ((w_{1}x_{1}^{(i)}+w_{2}x_{2}^{(i)}+b) - y^{(i)})x_{1}^{(i)}$$\n",
    "$$ \\frac{\\partial \\mathcal{J}}{\\partial w_{2}} = \\frac{1}{n} \\sum_{i=1}^N ((w_{1}x_{1}^{(i)}+w_{2}x_{2}^{(i)}+b) - y^{(i)})x_{2}^{(i)}$$\n",
    "$$ \\frac{\\partial \\mathcal{J}}{\\partial b} = \\frac{1}{n} \\sum_{i=1}^N ((w_{1}x_{1}^{(i)}+w_{2}x_{2}^{(i)}+b) - y^{(i)})$$\n",
    "입니다.\n",
    "\n",
    "마지막으로 이를 이용한 Gradient descent method는\n",
    "\n",
    "$$ w_{1} := w_{1} - \\alpha \\frac{\\partial \\mathcal{L}^{(i)}}{\\partial w_{1}} = w_{1} - \\alpha \\frac{1}{n} \\sum_{i=1}^N (\\hat{y}^{(i)} - y^{(i)}) x_{1}^{(i)}$$\n",
    "$$ w_{2} := w_{2} - \\alpha \\frac{\\partial \\mathcal{L}^{(i)}}{\\partial w_{2}} = w_{2} - \\alpha \\frac{1}{n} \\sum_{i=1}^N (\\hat{y}^{(i)} - y^{(i)}) x_{2}^{(i)}$$\n",
    "$$ b := b - \\alpha \\frac{\\partial \\mathcal{L}^{(i)}}{\\partial b} = b - \\alpha \\frac{1}{n} \\sum_{i=1}^N (\\hat{y}^{(i)} - y^{(i)})$$\n",
    "입니다.\n",
    "\n",
    "***\n",
    "**Programming**\n",
    "\n",
    "초기 $w_{1}, w_{1}, b$는 각 0.0, 0.0, 0.0 그리고 학습률(learning rate) $lr$은 0.05, 총 세대(epoch) $epochs$는 2001으로 설정하고 gradient descent method를 이용하여 optimal $w$와 $b$에 대한 approximation을 진행하세요.\n",
    "\n",
    "(Hint.1) $w$의 변화와 loss를 추적하기 위하여 빈 리스트 <i>w1_list, w2_list, loss_list</i>를 각각 만들어줍니다.  \n",
    "(Hint.2) 오차와 data sample 값의 곱에 대한 평균을 계산하여 w_diff 변수에 저장합니다.  \n",
    "(Hint.3) 오차에 대한 평균을 계산하여 b_diff 변수에 저장합니다.  \n",
    "(Hint.4) $w_{1}, w_{2}, b$에 대한 gradient descent를 수행합니다."
   ]
  },
  {
   "cell_type": "code",
   "execution_count": 5,
   "metadata": {},
   "outputs": [
    {
     "name": "stdout",
     "output_type": "stream",
     "text": [
      "epoch=0, w1=23.2000, w2=10.5625, b=4.5250\n",
      "epoch=500, w1=1.7042, w2=2.3562, b=76.4554\n",
      "epoch=1000, w1=1.5038, w2=2.2870, b=77.8310\n",
      "epoch=1500, w1=1.5001, w2=2.2857, b=77.8567\n",
      "epoch=2000, w1=1.5000, w2=2.2857, b=77.8571\n"
     ]
    },
    {
     "data": {
      "image/png": "[encoded data removed]",
      "text/plain": [
       "<Figure size 1440x720 with 2 Axes>"
      ]
     },
     "metadata": {
      "needs_background": "light"
     },
     "output_type": "display_data"
    }
   ],
   "source": [
    "%matplotlib inline\n",
    "\n",
    "##### Start Your Code(Learning Preparation) #####\n",
    "w1 = 0.0\n",
    "w2 = 0.0\n",
    "b = 0.0\n",
    "lr = 0.05\n",
    "epochs = 2001\n",
    "##### End Your Code(Learning Preparation) #####\n",
    "\n",
    "w1_list = []\n",
    "w2_list = []\n",
    "loss_list = []\n",
    "\n",
    "for epoch in range(epochs):\n",
    "    ##### Start Your Code(Loss Calculation) #####\n",
    "    pred = w1*x1_data + w2*x2_data + b\n",
    "    loss = (pred - y_data) ** 2\n",
    "    ##### End Your Code(Loss Calculation) #####\n",
    "\n",
    "    w1_list.append(w1)\n",
    "    w2_list.append(w2)\n",
    "    loss_list.append(np.mean(loss))\n",
    "\n",
    "    ##### Start Your Code(Gradient Calculation) #####\n",
    "    w1_diff = np.mean((pred-y_data)*x1_data)\n",
    "    w2_diff = np.mean((pred-y_data)*x2_data)\n",
    "    b_diff = np.mean(pred-y_data)\n",
    "    ##### End Your Code(Gradient Descent Method) #####\n",
    "\n",
    "    ##### Start Your Code(Gradient Descent Method) #####\n",
    "    w1 = w1 - lr*w1_diff\n",
    "    w2 = w2 - lr*w2_diff\n",
    "    b = b - lr*b_diff\n",
    "    ##### End Your Code(Gradient Descent Method) #####\n",
    "\n",
    "    if epoch % 500 == 0:\n",
    "        print(\"epoch=%d, w1=%.04f, w2=%.04f, b=%.04f\" % (epoch, w1, w2, b))\n",
    "\n",
    "fig, ax = plt.subplots(2, 1, figsize = (20,10))\n",
    "ax[0].plot(w1_list, label = r'$w_{1}$')\n",
    "ax[0].plot(w2_list, label = r'$w_{2}$')\n",
    "ax[0].legend(loc = 'upper left', fontsize = 30)\n",
    "ax[1].plot(loss_list)\n",
    "ax[0].set_title(r'$w$', fontsize = 30)\n",
    "ax[1].set_title(r'$\\mathcal{L}$', fontsize = 30)\n",
    "for ax_idx in range(2):\n",
    "    ax[ax_idx].tick_params(axis = 'both', labelsize = 20)"
   ]
  },
  {
   "cell_type": "markdown",
   "metadata": {},
   "source": [
    "**Expected Output**  \n",
    "epoch=0, w1=23.2000, w2=10.5625, b=4.5250  \n",
    "epoch=500, w1=1.7042, w2=2.3562, b=76.4554  \n",
    "epoch=1000, w1=1.5038, w2=2.2870, b=77.8310  \n",
    "epoch=1500, w1=1.5001, w2=2.2857, b=77.8567  \n",
    "epoch=2000, w1=1.5000, w2=2.2857, b=77.8571  \n",
    "<img src=\"./imgs/01_02.png\">"
   ]
  },
  {
   "cell_type": "markdown",
   "metadata": {},
   "source": [
    "이전 단계에서 구한 최적의 $w, b$를 사용하여 target function에 대한 그래프와 입력 데이터를 중첩하여 표시합니다."
   ]
  },
  {
   "cell_type": "code",
   "execution_count": 9,
   "metadata": {},
   "outputs": [
    {
     "name": "stdout",
     "output_type": "stream",
     "text": [
      "w1=1.5000, w2=2.2857, b=77.8571\n"
     ]
    },
    {
     "data": {
      "text/plain": [
       "<matplotlib.legend.Legend at 0x1b6cb778430>"
      ]
     },
     "execution_count": 9,
     "metadata": {},
     "output_type": "execute_result"
    }
   ],
   "source": [
    "%matplotlib qt\n",
    "\n",
    "print(\"w1=%.04f, w2=%.04f, b=%.04f\" % (w1, w2, b))\n",
    "\n",
    "X1, X2 = np.meshgrid(np.linspace(min(x1_data), max(x1_data),100),\n",
    "                   np.linspace(min(x2_data), max(x2_data),100))\n",
    "\n",
    "ax = plt.axes(projection='3d')\n",
    "ax.set_xlabel('study_hours')\n",
    "ax.set_ylabel('private_class')\n",
    "ax.set_zlabel('Score')\n",
    "ax.dist = 11 \n",
    "ax.scatter(x1_data, x2_data, y_data)\n",
    "\n",
    "z = X1*w1 + X2*w2 + b\n",
    "ax.plot_surface(X1, X2, z, rstride=1, cstride=1, color='none', alpha=0.4)\n",
    "fake2Dline = mpl.lines.Line2D([0],[0], linestyle=\"none\", c='g', marker = '.')\n",
    "ax.legend([fake2Dline], [r'$y = $' + str(round(w1, 2)) + r'$x_{1}$ + ' + str(round(w2, 2)) + r'$x_{2}$ + ' + str(round(b, 2))], numpoints = 1, fontsize=20)"
   ]
  },
  {
   "cell_type": "markdown",
   "metadata": {},
   "source": [
    "**Expected Output**  \n",
    "w1=1.5000, w2=2.2857, b=77.8571  \n",
    "<img src=\"./imgs/01_03.png\">"
   ]
  },
  {
   "cell_type": "markdown",
   "metadata": {},
   "source": [
    "### Step.3 Gradient Descent Method (2) : Stochastic Gradient Descent (SGD)\n",
    "\n",
    "위의 dataset에 따라 predictor는\n",
    "$$ \\hat{y} = w_{1}x_{1} + w_{2}x_{2} + b$$\n",
    "로 설정할 수 있습니다.\n",
    "\n",
    "그리고 <i>i</i>번째 data sample에 대한 loss($\\mathcal{L}^{(i)}$)는 \n",
    "$$ \\mathcal{L}^{(i)} = (\\hat{y}^{(i)} - y^{(i)})^{2} = ((w_{1}x_{1}^{(i)}+w_{2}x_{2}^{(i)}+b) - y^{(i)})^{2}$$\n",
    "로 정의됩니다.\n",
    "\n",
    "따라서 $w_{1}, w_{2}, b$에 대한 $\\mathcal{L}^{(i)}$의 partial derivative는\n",
    "$$ \\frac{\\partial \\mathcal{L}^{(i)}}{\\partial w_{1}} = 2(\\hat{y}^{(i)} - y^{(i)})x_{1}^{(i)}$$\n",
    "$$ \\frac{\\partial \\mathcal{L}^{(i)}}{\\partial w_{2}} = 2(\\hat{y}^{(i)} - y^{(i)})x_{2}^{(i)}$$\n",
    "$$ \\frac{\\partial \\mathcal{L}^{(i)}}{\\partial b} = 2(\\hat{y}^{(i)} - y^{(i)})$$\n",
    "입니다.\n",
    "\n",
    "마지막으로 이를 이용한 Gradient descent method는\n",
    "\n",
    "$$ w_{1} := w_{1} - \\alpha \\frac{\\partial \\mathcal{L}^{(i)}}{\\partial w_{1}} = w_{1} - 2\\alpha (\\hat{y}^{(i)} - y^{(i)}) x_{1}^{(i)}$$\n",
    "$$ w_{2} := w_{2} - \\alpha \\frac{\\partial \\mathcal{L}^{(i)}}{\\partial w_{2}} = w_{2} - 2\\alpha (\\hat{y}^{(i)} - y^{(i)}) x_{2}^{(i)}$$\n",
    "$$ b := b - \\alpha \\frac{\\partial \\mathcal{L}^{(i)}}{\\partial b} = b - 2\\alpha (\\hat{y}^{(i)} - y^{(i)})$$\n",
    "입니다.\n",
    "\n",
    "***\n",
    "**Programming**\n",
    "\n",
    "초기 $w_{1}, w_{2}, b$는 각 0.0, 0.0, 0.0 그리고 학습률(learning rate) $lr$은 0.01, 총 세대(epoch) $epochs$는 2001으로 설정하고 gradient descent method를 이용하여 optimal $w_{1}, w_{2}$와 $b$에 대한 approximation을 진행하세요.\n",
    "\n",
    "(Hint.1) $w$의 변화와 loss를 추적하기 위하여 빈 리스트 <i>w1_list, w2_list, loss_list</i>를 각각 만들어줍니다.  \n",
    "(Hint.2) 각 data sample에 대해 w에 대한 손실 함수의 편미분값을 w_diff 변수에 저장합니다.  \n",
    "(Hint.3) 각 data sample에 대해 b에 대한 손실 함수의 편미분값을 b_diff 변수에 저장합니다.  \n",
    "(Hint.4) w와 b에 대한 gradient descent를 수행합니다."
   ]
  },
  {
   "cell_type": "code",
   "execution_count": 11,
   "metadata": {},
   "outputs": [
    {
     "name": "stdout",
     "output_type": "stream",
     "text": [
      "epoch=0, w1=3.2400, w2=0.0000, b=1.6200\n",
      "epoch=500, w1=1.6524, w2=2.2403, b=77.4202\n",
      "epoch=1000, w1=1.6484, w2=2.2374, b=77.4566\n",
      "epoch=1500, w1=1.6484, w2=2.2374, b=77.4566\n",
      "epoch=2000, w1=1.6484, w2=2.2374, b=77.4566\n"
     ]
    },
    {
     "data": {
      "image/png": "[encoded data removed]",
      "text/plain": [
       "<Figure size 1440x720 with 2 Axes>"
      ]
     },
     "metadata": {
      "needs_background": "light"
     },
     "output_type": "display_data"
    }
   ],
   "source": [
    "%matplotlib inline\n",
    "\n",
    "##### Start Your Code(Learning Preparation) #####\n",
    "w1 = 0.0\n",
    "w2 = 0.0\n",
    "b = 0.0\n",
    "lr = 0.01\n",
    "epochs = 2001\n",
    "##### End Your Code(Learning Preparation) #####\n",
    "\n",
    "w1_list = []\n",
    "w2_list = []\n",
    "loss_list = []\n",
    "\n",
    "for epoch in range(epochs):\n",
    "    for data_idx, (v1, v2, v) in enumerate(zip(x1_data, x2_data, y_data)):\n",
    "        ##### Start Your Code(Loss Calculation) #####\n",
    "        pred = w1*v1 + w2*v2 + b\n",
    "        loss = (pred - v) ** 2\n",
    "        ##### End Your Code(Loss Calculation) #####\n",
    "\n",
    "        w1_list.append(w1)\n",
    "        w2_list.append(w2)\n",
    "        loss_list.append(loss)\n",
    "        \n",
    "        ##### Start Your Code(Gradient Calculation) #####\n",
    "        w1_diff = 2*(pred - v)*v1\n",
    "        w2_diff = 2*(pred - v)*v2\n",
    "        b_diff = 2*(pred - v)\n",
    "        ##### End Your Code(Gradient Descent Method) #####\n",
    "\n",
    "        ##### Start Your Code(Gradient Descent Method) #####\n",
    "        w1 = w1 - lr*w1_diff\n",
    "        w2 = w2 - lr*w2_diff\n",
    "        b = b - lr*b_diff\n",
    "        ##### End Your Code(Gradient Descent Method) #####\n",
    "\n",
    "        if (epoch % 500 == 0) and (data_idx == 0):\n",
    "            print(\"epoch=%d, w1=%.04f, w2=%.04f, b=%.04f\" % (epoch, w1, w2, b))\n",
    "        \n",
    "fig, ax = plt.subplots(2, 1, figsize = (20,10))\n",
    "ax[0].plot(w1_list, label = r'$w_{1}$')\n",
    "ax[0].plot(w2_list, label = r'$w_{2}$')\n",
    "ax[0].legend(loc = 'upper left', fontsize = 30)\n",
    "ax[1].plot(loss_list)\n",
    "ax[0].set_title(r'$w$', fontsize = 30)\n",
    "ax[1].set_title(r'$\\mathcal{L}$', fontsize = 30)\n",
    "for ax_idx in range(2):\n",
    "    ax[ax_idx].tick_params(axis = 'both', labelsize = 20)"
   ]
  },
  {
   "cell_type": "markdown",
   "metadata": {},
   "source": [
    "**Expected Output**  \n",
    "epoch=0, w1=3.2400, w2=0.0000, b=1.6200  \n",
    "epoch=500, w1=1.6524, w2=2.2403, b=77.4202  \n",
    "epoch=1000, w1=1.6484, w2=2.2374, b=77.4566  \n",
    "epoch=1500, w1=1.6484, w2=2.2374, b=77.4566  \n",
    "epoch=2000, w1=1.6484, w2=2.2374, b=77.4566  \n",
    "<img src=\"./imgs/01_04.png\">"
   ]
  },
  {
   "cell_type": "markdown",
   "metadata": {},
   "source": [
    "이전 단계에서 구한 최적의 $w, b$를 사용하여 target function에 대한 그래프와 입력 데이터를 중첩하여 표시합니다."
   ]
  },
  {
   "cell_type": "code",
   "execution_count": 12,
   "metadata": {},
   "outputs": [
    {
     "name": "stdout",
     "output_type": "stream",
     "text": [
      "w1=1.6374, w2=2.2374, b=77.4511\n"
     ]
    },
    {
     "data": {
      "text/plain": [
       "<matplotlib.legend.Legend at 0x1b6cb42f820>"
      ]
     },
     "execution_count": 12,
     "metadata": {},
     "output_type": "execute_result"
    }
   ],
   "source": [
    "%matplotlib qt\n",
    "\n",
    "print(\"w1=%.04f, w2=%.04f, b=%.04f\" % (w1, w2, b))\n",
    "\n",
    "X1, X2 = np.meshgrid(np.linspace(min(x1_data), max(x1_data),100),\n",
    "                   np.linspace(min(x2_data), max(x2_data),100))\n",
    "\n",
    "ax = plt.axes(projection='3d')\n",
    "ax.set_xlabel('study_hours')\n",
    "ax.set_ylabel('private_class')\n",
    "ax.set_zlabel('Score')\n",
    "ax.dist = 11 \n",
    "ax.scatter(x1_data, x2_data, y_data)\n",
    "\n",
    "z = X1*w1 + X2*w2 + b\n",
    "ax.plot_surface(X1, X2, z, rstride=1, cstride=1, color='none', alpha=0.4)\n",
    "fake2Dline = mpl.lines.Line2D([0],[0], linestyle=\"none\", c='g', marker = '.')\n",
    "ax.legend([fake2Dline], [r'$y = $' + str(round(w1, 2)) + r'$x_{1}$ + ' + str(round(w2, 2)) + r'$x_{2}$ + ' + str(round(b, 2))], numpoints = 1, fontsize=20)"
   ]
  },
  {
   "cell_type": "markdown",
   "metadata": {},
   "source": [
    "**Expected Output**  \n",
    "w1=1.6374, w2=2.2374, b=77.4511  \n",
    "<img src=\"./imgs/01_05.png\">"
   ]
  }
 ],
 "metadata": {
  "kernelspec": {
   "display_name": "Python 3",
   "language": "python",
   "name": "python3"
  },
  "language_info": {
   "codemirror_mode": {
    "name": "ipython",
    "version": 3
   },
   "file_extension": ".py",
   "mimetype": "text/x-python",
   "name": "python",
   "nbconvert_exporter": "python",
   "pygments_lexer": "ipython3",
   "version": "3.8.8"
  }
 },
 "nbformat": 4,
 "nbformat_minor": 4
}
