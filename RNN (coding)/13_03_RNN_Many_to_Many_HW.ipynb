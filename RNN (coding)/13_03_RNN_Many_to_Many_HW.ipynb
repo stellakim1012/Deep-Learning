{
  "nbformat": 4,
  "nbformat_minor": 0,
  "metadata": {
    "colab": {
      "name": "13_03_RNN_Many_to_Many.ipynb",
      "provenance": [],
      "collapsed_sections": []
    },
    "kernelspec": {
      "name": "python3",
      "display_name": "Python 3"
    }
  },
  "cells": [
    {
      "cell_type": "code",
      "metadata": {
        "id": "t_K4rONKeQAA"
      },
      "source": [
        "from keras.models import Model\n",
        "from keras.layers import Input, Dense, SimpleRNN, LSTM, TimeDistributed\n",
        "import numpy as np"
      ],
      "execution_count": null,
      "outputs": []
    },
    {
      "cell_type": "code",
      "metadata": {
        "id": "5lFNmX5mesEe",
        "colab": {
          "base_uri": "https://localhost:8080/"
        },
        "outputId": "2153d28e-fb77-40cf-ab65-39606fb41e9a"
      },
      "source": [
        "# first data set\n",
        "idx2char = ['h', 'i', 'e', 'l', 'o', '.']\n",
        "\n",
        "h, i, e, l, o, dot = 0, 1, 2, 3, 4, 5\n",
        "\n",
        "x = np.array([[[h, i, h], [i, h, e], [h, e, l], [e, l, l], [l, l, o]]], dtype=np.float32)\n",
        "y = np.array([[[e], [l], [l], [o], [dot]]], dtype=np.float32)\n",
        "\n",
        "print(\"x:\", x, x.shape)\n",
        "print(\"y:\", y, y.shape)"
      ],
      "execution_count": null,
      "outputs": [
        {
          "output_type": "stream",
          "name": "stdout",
          "text": [
            "x: [[[0. 1. 0.]\n",
            "  [1. 0. 2.]\n",
            "  [0. 2. 3.]\n",
            "  [2. 3. 3.]\n",
            "  [3. 3. 4.]]] (1, 5, 3)\n",
            "y: [[[2.]\n",
            "  [3.]\n",
            "  [3.]\n",
            "  [4.]\n",
            "  [5.]]] (1, 5, 1)\n"
          ]
        }
      ]
    },
    {
      "cell_type": "code",
      "metadata": {
        "id": "ymYwzYUhq5MN"
      },
      "source": [
        "model_type = 1 # 1: Regression, 2: Classification"
      ],
      "execution_count": null,
      "outputs": []
    },
    {
      "cell_type": "code",
      "metadata": {
        "id": "NM7tX--QfAIE",
        "colab": {
          "base_uri": "https://localhost:8080/"
        },
        "outputId": "f5046344-7636-4cf9-d6cc-33e6f8a45247"
      },
      "source": [
        "x_input = Input(batch_shape=(None, x.shape[1], 3))\n",
        "rnn = LSTM(6, return_sequences=True)(x_input)\n",
        "print(rnn)\n",
        "if model_type == 1:\n",
        "  x_output = TimeDistributed(Dense(1))(rnn)\n",
        "  #x_output = Dense(1)(rnn)\n",
        "elif model_type == 2:\n",
        "  x_output = TimeDistributed(Dense(4, activation=\"softmax\"))(rnn)\n",
        "  #x_output = Dense(4, activation=\"softmax\")(rnn)"
      ],
      "execution_count": null,
      "outputs": [
        {
          "output_type": "stream",
          "name": "stdout",
          "text": [
            "KerasTensor(type_spec=TensorSpec(shape=(None, 5, 6), dtype=tf.float32, name=None), name='lstm/PartitionedCall:1', description=\"created by layer 'lstm'\")\n"
          ]
        }
      ]
    },
    {
      "cell_type": "code",
      "metadata": {
        "id": "GiratnNffAs1",
        "colab": {
          "base_uri": "https://localhost:8080/"
        },
        "outputId": "b190d371-988b-4a83-8b50-997c334128ac"
      },
      "source": [
        "model = Model(x_input, x_output)\n",
        "\n",
        "if model_type == 1:\n",
        "  model.compile(loss='mean_squared_error', optimizer='adam')\n",
        "elif model_type == 2:\n",
        "  model.compile(loss='sparse_categorical_crossentropy', optimizer='adam')\n",
        "\n",
        "print(model.summary())"
      ],
      "execution_count": null,
      "outputs": [
        {
          "output_type": "stream",
          "name": "stdout",
          "text": [
            "Model: \"model\"\n",
            "_________________________________________________________________\n",
            " Layer (type)                Output Shape              Param #   \n",
            "=================================================================\n",
            " input_1 (InputLayer)        [(None, 5, 3)]            0         \n",
            "                                                                 \n",
            " lstm (LSTM)                 (None, 5, 6)              240       \n",
            "                                                                 \n",
            " time_distributed (TimeDistr  (None, 5, 1)             7         \n",
            " ibuted)                                                         \n",
            "                                                                 \n",
            "=================================================================\n",
            "Total params: 247\n",
            "Trainable params: 247\n",
            "Non-trainable params: 0\n",
            "_________________________________________________________________\n",
            "None\n"
          ]
        }
      ]
    },
    {
      "cell_type": "code",
      "metadata": {
        "id": "cZQKoVeRyhjN",
        "colab": {
          "base_uri": "https://localhost:8080/"
        },
        "outputId": "a36f05f2-fc5d-423e-cdac-1c7ad6a6bd82"
      },
      "source": [
        "model.fit(x, y, epochs=1000, batch_size=1, verbose=0)"
      ],
      "execution_count": null,
      "outputs": [
        {
          "output_type": "execute_result",
          "data": {
            "text/plain": [
              "<keras.callbacks.History at 0x7f9f593bbf50>"
            ]
          },
          "metadata": {},
          "execution_count": 6
        }
      ]
    },
    {
      "cell_type": "code",
      "metadata": {
        "id": "Lp8yyKAlfFmZ",
        "colab": {
          "base_uri": "https://localhost:8080/"
        },
        "outputId": "aef612eb-6a3f-4725-e808-e28e56c1bffa"
      },
      "source": [
        "pred = model.predict(x, batch_size=1)\n",
        "if model_type == 1:\n",
        "  print(pred)\n",
        "  pred = np.squeeze(pred, axis=0)\n",
        "  # print(np.round(pred))\n",
        "  idx = np.round(pred).astype(np.int8)\n",
        "  idx = np.squeeze(idx)\n",
        "  print(\"Argmax: \")\n",
        "  print(idx)\n",
        "  result = [idx2char[i] for i in idx]\n",
        "  print(\"Result: \")\n",
        "  print(result)\n",
        "  # idx = np.round(pred).astype(np.int8)\n",
        "  # print(\"Argmax: \")\n",
        "  # print(idx)\n",
        "  # result = [idx2char[i] for i in idx]\n",
        "  # print(\"Result: \")\n",
        "  # print(result)\n",
        "elif model_type == 2:\n",
        "  pred = np.squeeze(pred, axis=0)\n",
        "  print(np.round(pred, 3))\n",
        "  idx = [np.argmax(r) for r in pred]\n",
        "  print(idx)"
      ],
      "execution_count": 44,
      "outputs": [
        {
          "output_type": "stream",
          "name": "stdout",
          "text": [
            "[[[1.4775937]\n",
            "  [2.748584 ]\n",
            "  [3.3513432]\n",
            "  [4.267691 ]\n",
            "  [4.6416607]]]\n",
            "Argmax: \n",
            "[1 3 3 4 5]\n",
            "Result: \n",
            "['i', 'l', 'l', 'o', '.']\n"
          ]
        }
      ]
    }
  ]
}