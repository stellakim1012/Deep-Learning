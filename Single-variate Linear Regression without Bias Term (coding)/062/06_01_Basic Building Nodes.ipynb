{
 "cells": [
  {
   "cell_type": "markdown",
   "metadata": {},
   "source": [
    "# Single-variate Linear Regression without Bias Term\n",
    "\n",
    "## Programming Lab.: 06_01 Basic Building Nodes\n",
    "\n",
    "이번 실습에서는 forward/backward propagation을 이해하고, deep learning network를 구성하기 위한 기본 단위인 basic building node를 구현합니다.\n",
    "\n",
    "이를 위해 구현되는 node는 총 5개로 다음과 같이 5개의 Step을 통해 구현합니다.  \n",
    "plus node는 먼저 예시로 제공하고 나머지 4개는 실습과제로 제공합니다.\n",
    "<ul>\n",
    "    <li> Step.1 Plus Node </li>\n",
    "    <li> Step.2 Minus Node </li>\n",
    "    <li> Step.3 Multiply Node </li>\n",
    "    <li> Step.4 Square Node </li>\n",
    "    <li> Step.5 Mean Node </li>\n",
    "</ul>"
   ]
  },
  {
   "cell_type": "code",
   "execution_count": 1,
   "metadata": {},
   "outputs": [],
   "source": [
    "import numpy as np"
   ]
  },
  {
   "cell_type": "markdown",
   "metadata": {},
   "source": [
    "***\n",
    "## Step.1 Plus Node\n",
    "\n",
    "다음 그림의 plus node를 구현합니다.  \n",
    "<img src='./imgs/06_01_01.png' width = 600>"
   ]
  },
  {
   "cell_type": "code",
   "execution_count": 2,
   "metadata": {},
   "outputs": [],
   "source": [
    "class plus_node:\n",
    "    def __init__(self):\n",
    "        self._x, self._y = None, None\n",
    "        self._z = None\n",
    "        \n",
    "    def forward(self, x, y):\n",
    "        self._x, self._y = x, y\n",
    "        self._z = self._x + self._y\n",
    "        return self._z\n",
    "    \n",
    "    def backward(self, dz):\n",
    "        return dz, dz"
   ]
  },
  {
   "cell_type": "markdown",
   "metadata": {},
   "source": [
    "위 구현된 plus_node가 잘 작동하는지 확인하기 위해 다음의 cell을 실행시켜봅니다."
   ]
  },
  {
   "cell_type": "code",
   "execution_count": 4,
   "metadata": {},
   "outputs": [
    {
     "name": "stdout",
     "output_type": "stream",
     "text": [
      "z: 5\n",
      "dx: 2 dy: 2\n"
     ]
    }
   ],
   "source": [
    "test_x, test_y = 2, 3\n",
    "test_dz = 2\n",
    "\n",
    "plus_test = plus_node()\n",
    "\n",
    "z = plus_test.forward(test_x, test_y)\n",
    "dx, dy = plus_test.backward(test_dz)\n",
    "\n",
    "print(\"z:\", z)\n",
    "print(\"dx:\", dx, \"dy:\", dy)"
   ]
  },
  {
   "cell_type": "markdown",
   "metadata": {},
   "source": [
    "**Expected Output**  \n",
    "z: 5  \n",
    "dz: (2, 2)"
   ]
  },
  {
   "cell_type": "markdown",
   "metadata": {},
   "source": [
    "***\n",
    "## Step.2 Minus Node\n",
    "\n",
    "**Programming**  \n",
    "다음의 연산을 진행하는 minus_node를 구현하세요.\n",
    "\n",
    "<img src='./imgs/06_01_02.png' width = 600>"
   ]
  },
  {
   "cell_type": "code",
   "execution_count": 5,
   "metadata": {},
   "outputs": [],
   "source": [
    "class minus_node:\n",
    "    def __init__(self):\n",
    "        ##### Start Your Code(Initializer) #####\n",
    "        self._x, self._y = None, None\n",
    "        self._z = None\n",
    "        ##### End Your Code(Initializer) #####\n",
    "        \n",
    "    def forward(self, x, y):\n",
    "        ##### Start Your Code(Forward Propagation) #####\n",
    "        self._x, self._y = x, y\n",
    "        self._z = self._x - self._y\n",
    "        return self._z\n",
    "        ##### End Your Code(Forward Propagation) #####\n",
    "    \n",
    "    def backward(self, dz):\n",
    "        ##### Start Your Code(Backpropagation) #####\n",
    "        return dz, -dz\n",
    "        ##### End Your Code(Backpropagation) #####"
   ]
  },
  {
   "cell_type": "markdown",
   "metadata": {},
   "source": [
    "위 구현된 minus_node가 잘 작동하는지 확인하기 위해 다음의 cell을 실행시켜봅니다."
   ]
  },
  {
   "cell_type": "code",
   "execution_count": 6,
   "metadata": {},
   "outputs": [
    {
     "name": "stdout",
     "output_type": "stream",
     "text": [
      "z: -1\n",
      "dx: 2 dy: -2\n"
     ]
    }
   ],
   "source": [
    "test_x, test_y = 2, 3\n",
    "test_dz = 2\n",
    "\n",
    "minus_test = minus_node()\n",
    "\n",
    "z = minus_test.forward(test_x, test_y)\n",
    "dx, dy = minus_test.backward(test_dz)\n",
    "\n",
    "print(\"z:\", z)\n",
    "print(\"dx:\", dx, \"dy:\", dy)"
   ]
  },
  {
   "cell_type": "markdown",
   "metadata": {},
   "source": [
    "**Expected Output**  \n",
    "z: -1  \n",
    "dz: (2, -2)"
   ]
  },
  {
   "cell_type": "markdown",
   "metadata": {},
   "source": [
    "***\n",
    "## Step.3 Multiply Node\n",
    "\n",
    "**Programming**  \n",
    "다음의 연산을 진행하는 mul_node를 구현하세요.\n",
    "\n",
    "<img src='./imgs/06_01_03.png' width = 600>"
   ]
  },
  {
   "cell_type": "code",
   "execution_count": 9,
   "metadata": {},
   "outputs": [],
   "source": [
    "class mul_node:\n",
    "    def __init__(self):\n",
    "        ##### Start Your Code(Initializer) #####\n",
    "        self._x, self._y = None, None\n",
    "        self._z = None\n",
    "        ##### End Your Code(Initializer) #####\n",
    "    \n",
    "    def forward(self, x, y):\n",
    "        ##### Start Your Code(Forward Propagation) #####\n",
    "        self._x, self._y = x, y\n",
    "        self._z = self._x * self._y\n",
    "        return self._z\n",
    "        ##### End Your Code(Forward Propagation) #####\n",
    "    \n",
    "    def backward(self, dz):\n",
    "        ##### Start Your Code(Backpropagation) #####\n",
    "        return dz*self._y, dz*self._x\n",
    "        ##### End Your Code(Backpropagation) #####"
   ]
  },
  {
   "cell_type": "markdown",
   "metadata": {},
   "source": [
    "위 구현된 mul_node가 잘 작동하는지 확인하기 위해 다음의 cell을 실행시켜봅니다."
   ]
  },
  {
   "cell_type": "code",
   "execution_count": 10,
   "metadata": {},
   "outputs": [
    {
     "name": "stdout",
     "output_type": "stream",
     "text": [
      "z: 6\n",
      "dz: (6, 4)\n"
     ]
    }
   ],
   "source": [
    "test_x, test_y = 2, 3\n",
    "test_dz = 2\n",
    "\n",
    "mul_test = mul_node()\n",
    "\n",
    "z = mul_test.forward(test_x, test_y)\n",
    "dz = mul_test.backward(test_dz)\n",
    "\n",
    "print(\"z:\", z)\n",
    "print(\"dz:\", dz)"
   ]
  },
  {
   "cell_type": "markdown",
   "metadata": {},
   "source": [
    "**Expected Output**  \n",
    "z: 6  \n",
    "dz: (6, 4)"
   ]
  },
  {
   "cell_type": "markdown",
   "metadata": {},
   "source": [
    "***\n",
    "## Step.4 Square Node\n",
    "\n",
    "**Programming**  \n",
    "다음의 연산을 진행하는 square_node를 구현하세요.\n",
    "\n",
    "<img src='./imgs/06_01_04.png' width = 600>"
   ]
  },
  {
   "cell_type": "code",
   "execution_count": 11,
   "metadata": {},
   "outputs": [],
   "source": [
    "class square_node:\n",
    "    def __init__(self):\n",
    "        ##### Start Your Code(Initializer) #####\n",
    "        self._x = None\n",
    "        self._z = None\n",
    "        ##### End Your Code(Initializer) #####\n",
    "    \n",
    "    def forward(self, x):\n",
    "        ##### Start Your Code(Forward Propagation) #####\n",
    "        self._x = x\n",
    "        self._z = self._x * self._x\n",
    "        return self._z\n",
    "        ##### End Your Code(Forward Propagation) #####\n",
    "    \n",
    "    def backward(self, dz):\n",
    "        ##### Start Your Code(Backpropagation) #####\n",
    "        return dz*2*self._x\n",
    "        ##### End Your Code(Backpropagation) #####\n",
    "    "
   ]
  },
  {
   "cell_type": "markdown",
   "metadata": {},
   "source": [
    "위 구현된 square_node가 잘 작동하는지 확인하기 위해 다음의 cell을 실행시켜봅니다."
   ]
  },
  {
   "cell_type": "code",
   "execution_count": 12,
   "metadata": {},
   "outputs": [
    {
     "name": "stdout",
     "output_type": "stream",
     "text": [
      "z: 9\n",
      "dz: 12\n"
     ]
    }
   ],
   "source": [
    "test_x = 3\n",
    "test_dz = 2\n",
    "\n",
    "square_test = square_node()\n",
    "\n",
    "z = square_test.forward(test_x)\n",
    "dz = square_test.backward(test_dz)\n",
    "\n",
    "print(\"z:\", z)\n",
    "print(\"dz:\", dz)"
   ]
  },
  {
   "cell_type": "markdown",
   "metadata": {},
   "source": [
    "**Expected Output**  \n",
    "z: 9  \n",
    "dz: 12"
   ]
  },
  {
   "cell_type": "markdown",
   "metadata": {},
   "source": [
    "***\n",
    "## Step.5 Mean Node\n",
    "\n",
    "**Programming**  \n",
    "다음의 연산을 진행하는 mean_node를 구현하세요.\n",
    "\n",
    "<img src='./imgs/06_01_05.png' width = 600>"
   ]
  },
  {
   "cell_type": "code",
   "execution_count": 13,
   "metadata": {},
   "outputs": [],
   "source": [
    "class mean_node:\n",
    "    def __init__(self):\n",
    "        ##### Start Your Code(Initializer) #####\n",
    "        self._x = None\n",
    "        self._z = None\n",
    "        ##### End Your Code(Initializer) #####\n",
    "    \n",
    "    def forward(self, x):\n",
    "        ##### Start Your Code(Forward Propagation) #####\n",
    "        self._x = x\n",
    "        self._z = np.mean(self._x)\n",
    "        return self._z\n",
    "        ##### End Your Code(Forward Propagation) #####\n",
    "    \n",
    "    def backward(self, dz):\n",
    "        ##### Start Your Code(Backpropagation) #####\n",
    "        dx = dz*1/len(self._x)*np.ones_like(self._x)\n",
    "        return dx\n",
    "        ##### End Your Code(Backpropagation) #####\n",
    "    "
   ]
  },
  {
   "cell_type": "markdown",
   "metadata": {},
   "source": [
    "위 구현된 mean_node가 잘 작동하는지 확인하기 위해 다음의 cell을 실행시켜봅니다."
   ]
  },
  {
   "cell_type": "code",
   "execution_count": 14,
   "metadata": {},
   "outputs": [
    {
     "name": "stdout",
     "output_type": "stream",
     "text": [
      "z: 3.0\n",
      "dz: [0.4 0.4 0.4 0.4 0.4]\n"
     ]
    }
   ],
   "source": [
    "test_x = np.array([1, 2, 3, 4, 5])\n",
    "test_dz = 2\n",
    "\n",
    "mean_test = mean_node()\n",
    "\n",
    "z = mean_test.forward(test_x)\n",
    "dz = mean_test.backward(test_dz)\n",
    "\n",
    "print(\"z:\", z)\n",
    "print(\"dz:\", dz)"
   ]
  },
  {
   "cell_type": "markdown",
   "metadata": {},
   "source": [
    "**Expected Output**  \n",
    "z: 3.0  \n",
    "dz: [0.4 0.4 0.4 0.4 0.4]"
   ]
  },
  {
   "cell_type": "markdown",
   "metadata": {},
   "source": [
    "### 보충실습: sys.path 추가\n",
    "\n",
    "Python는 특정 module을 import할 때 프로젝트 관련 directory에 해당 module이 없으면 system path에서 module을 찾습니다.\n",
    "\n",
    "위의 basic building node들은 basic_nodes.py 안에 구현되며 uilts directory안에 만들어질 것이기 때문에  \n",
    "이 directory를 system path에 추가해줍니다.\n",
    "\n",
    "먼저 directory를 찾아가기 위해 os library를 import해주며  \n",
    "system path에 path를 추가하기 위해 sys library를 import 해줍니다.\n",
    "\n",
    "그리고 sys.path에 utils directory가 없으면 새로 추가해줍니다.  \n",
    "이는 sys.path에 중복해서 추가하는 것을 방지하기 위함입니다.\n",
    "\n",
    "다음 코드는 상위폴더로 이동하여 utils package를 찾고, 이를 sys.path에 추가하는 코드입니다.  \n",
    "그리고 추가된 sys.path를 출력합니다.  \n",
    "(단, 경로는 사용자에 따라 다를 수 있습니다.)\n",
    "\n",
    "이 코드가 실행된 뒤에는 마치 built-in package를 import 할 때와 같이 basic_nodes를 import 할 수 있습니다.  \n",
    "따라서 이 basic_nodes를 import하고 그 안에 들어있는 plus_node()를 instantiation 해봅니다."
   ]
  },
  {
   "cell_type": "code",
   "execution_count": 17,
   "metadata": {},
   "outputs": [
    {
     "name": "stdout",
     "output_type": "stream",
     "text": [
      "/home/jovyan/utils/ \n",
      "\n",
      "<basic_nodes.plus_node object at 0x7f48f7a35470>\n"
     ]
    }
   ],
   "source": [
    "import os\n",
    "import sys\n",
    "utils_path = os.path.dirname(os.path.abspath(__name__)) + '/utils/'\n",
    "if utils_path not in sys.path:    \n",
    "    sys.path.append(utils_path)\n",
    "print(os.sys.path[-1], '\\n')\n",
    "\n",
    "import basic_nodes as nodes\n",
    "\n",
    "plus_test = nodes.plus_node()\n",
    "print(plus_test)"
   ]
  }
 ],
 "metadata": {
  "kernelspec": {
   "display_name": "Python 3",
   "language": "python",
   "name": "python3"
  },
  "language_info": {
   "codemirror_mode": {
    "name": "ipython",
    "version": 3
   },
   "file_extension": ".py",
   "mimetype": "text/x-python",
   "name": "python",
   "nbconvert_exporter": "python",
   "pygments_lexer": "ipython3",
   "version": "3.6.13"
  }
 },
 "nbformat": 4,
 "nbformat_minor": 4
}
