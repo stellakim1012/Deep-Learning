{
  "nbformat": 4,
  "nbformat_minor": 0,
  "metadata": {
    "kernelspec": {
      "display_name": "Python 3",
      "language": "python",
      "name": "python3"
    },
    "language_info": {
      "codemirror_mode": {
        "name": "ipython",
        "version": 3
      },
      "file_extension": ".py",
      "mimetype": "text/x-python",
      "name": "python",
      "nbconvert_exporter": "python",
      "pygments_lexer": "ipython3",
      "version": "3.7.3"
    },
    "colab": {
      "name": "071_01_ANN_ThoraricSurgery2.ipynb",
      "provenance": [],
      "collapsed_sections": []
    }
  },
  "cells": [
    {
      "cell_type": "markdown",
      "metadata": {
        "id": "_AYh4OM1jykY"
      },
      "source": [
        "## 인공신경망(Aritificial Neural Network)을 사용한 폐암 환자 분류\n",
        "<ul>OneHot Encoding 사용</ul>\n",
        "<ul>Sparse Categorical Crossentropy</ul>\n"
      ]
    },
    {
      "cell_type": "markdown",
      "metadata": {
        "id": "omn4DrGqkCbg"
      },
      "source": [
        "### 학습 데이터 업로드"
      ]
    },
    {
      "cell_type": "code",
      "metadata": {
        "colab": {
          "resources": {
            "http://localhost:8080/nbextensions/google.colab/files.js": {
              "data": "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",
              "ok": true,
              "headers": [
                [
                  "content-type",
                  "application/javascript"
                ]
              ],
              "status": 200,
              "status_text": ""
            }
          },
          "base_uri": "https://localhost:8080/",
          "height": 75
        },
        "id": "7uutLq4Njk67",
        "outputId": "3808fb80-c373-47aa-e269-9bb640c3da05"
      },
      "source": [
        "from google.colab import files\n",
        "uploaded = files.upload()\n",
        "my_data = 'ThoraricSurgery.csv'"
      ],
      "execution_count": 1,
      "outputs": [
        {
          "output_type": "display_data",
          "data": {
            "text/html": [
              "\n",
              "     <input type=\"file\" id=\"files-697476c3-7c5f-4d02-84cf-bd3ae4d86101\" name=\"files[]\" multiple disabled\n",
              "        style=\"border:none\" />\n",
              "     <output id=\"result-697476c3-7c5f-4d02-84cf-bd3ae4d86101\">\n",
              "      Upload widget is only available when the cell has been executed in the\n",
              "      current browser session. Please rerun this cell to enable.\n",
              "      </output>\n",
              "      <script src=\"/nbextensions/google.colab/files.js\"></script> "
            ],
            "text/plain": [
              "<IPython.core.display.HTML object>"
            ]
          },
          "metadata": {}
        },
        {
          "output_type": "stream",
          "name": "stdout",
          "text": [
            "Saving ThoraricSurgery.csv to ThoraricSurgery.csv\n"
          ]
        }
      ]
    },
    {
      "cell_type": "markdown",
      "metadata": {
        "id": "4LXMXInhkLS5"
      },
      "source": [
        "### 필요한 패키지 임포트"
      ]
    },
    {
      "cell_type": "code",
      "metadata": {
        "id": "8hMp43G7kP8Q"
      },
      "source": [
        "# 딥러닝을 구동하는 데 필요한 케라스 함수를 불러옵니다.\n",
        "from tensorflow.keras.models import Sequential\n",
        "from tensorflow.keras.layers import Dense\n",
        "\n",
        "# 필요한 라이브러리를 불러옵니다.\n",
        "import numpy as np\n",
        "import pandas as pd\n",
        "import tensorflow as tf\n",
        "\n",
        "# 실행할 때마다 같은 결과를 출력하기 위해 설정하는 부분입니다.\n",
        "np.random.seed(3)\n",
        "tf.random.set_seed(3)"
      ],
      "execution_count": 2,
      "outputs": []
    },
    {
      "cell_type": "markdown",
      "metadata": {
        "id": "TVgayXiGkhBR"
      },
      "source": [
        "### 학습 데이터 불러오기"
      ]
    },
    {
      "cell_type": "code",
      "metadata": {
        "id": "P63TSAsokn_J"
      },
      "source": [
        "# 환자 기록을 불러옵니다.\n",
        "#Data_set = np.loadtxt(my_data, delimiter=\",\")\n",
        "\n",
        "df = pd.read_csv(my_data, header=None)\n",
        "Data_set = df.to_numpy()\n",
        "\n",
        "# 환자의 기록과 수술 결과를 X와 Y로 구분하여 저장합니다.\n",
        "X = Data_set[:, 0:17]\n",
        "Y = Data_set[:, 17]"
      ],
      "execution_count": 3,
      "outputs": []
    },
    {
      "cell_type": "code",
      "metadata": {
        "id": "RJJNyCHFsoAx"
      },
      "source": [
        "Y_encoded = tf.keras.utils.to_categorical(Y)"
      ],
      "execution_count": 4,
      "outputs": []
    },
    {
      "cell_type": "markdown",
      "metadata": {
        "id": "tN2uKfeJkypm"
      },
      "source": [
        "### 모델 정의"
      ]
    },
    {
      "cell_type": "code",
      "metadata": {
        "id": "r3wo-dj-k1-d"
      },
      "source": [
        "# 딥러닝 구조를 정의합니다.\n",
        "model = Sequential()\n",
        "model.add(Dense(30, input_shape=[17], activation='relu'))\n",
        "model.add(Dense(2))"
      ],
      "execution_count": 5,
      "outputs": []
    },
    {
      "cell_type": "markdown",
      "metadata": {
        "id": "behtUWeDk964"
      },
      "source": [
        "### 모델 환경 설정"
      ]
    },
    {
      "cell_type": "code",
      "metadata": {
        "id": "oMcaeOwWFSfe"
      },
      "source": [
        "choice = 2 # 1(OneHot) or 2(Sparse)"
      ],
      "execution_count": 30,
      "outputs": []
    },
    {
      "cell_type": "code",
      "metadata": {
        "id": "nMiHwovzlKBi",
        "colab": {
          "base_uri": "https://localhost:8080/"
        },
        "outputId": "6ae99cbd-01c1-45a9-b612-02973255ae1c"
      },
      "source": [
        "if choice == 1:\n",
        "    model.compile(loss='mse', optimizer='adam', metrics=['accuracy'])\n",
        "elif choice == 2:\n",
        "    loss = tf.keras.losses.SparseCategoricalCrossentropy(from_logits=True)\n",
        "    model.compile(loss=loss, optimizer='adam', metrics=['accuracy'])\n",
        "\n",
        "model.summary()"
      ],
      "execution_count": 31,
      "outputs": [
        {
          "output_type": "stream",
          "name": "stdout",
          "text": [
            "Model: \"sequential\"\n",
            "_________________________________________________________________\n",
            "Layer (type)                 Output Shape              Param #   \n",
            "=================================================================\n",
            "dense (Dense)                (None, 30)                540       \n",
            "_________________________________________________________________\n",
            "dense_1 (Dense)              (None, 2)                 62        \n",
            "=================================================================\n",
            "Total params: 602\n",
            "Trainable params: 602\n",
            "Non-trainable params: 0\n",
            "_________________________________________________________________\n"
          ]
        }
      ]
    },
    {
      "cell_type": "markdown",
      "metadata": {
        "id": "QLdfwJRflIcp"
      },
      "source": [
        "### 학습 실행"
      ]
    },
    {
      "cell_type": "code",
      "metadata": {
        "colab": {
          "base_uri": "https://localhost:8080/"
        },
        "id": "BGfjv9avewxe",
        "outputId": "c3b63fb3-511b-496b-b4e8-70b423f0d032"
      },
      "source": [
        "if choice == 1:\n",
        "    model.fit(X, Y_encoded, epochs=100, batch_size=10)\n",
        "elif choice == 2:\n",
        "    model.fit(X, Y, epochs=100, batch_size=10)"
      ],
      "execution_count": 32,
      "outputs": [
        {
          "output_type": "stream",
          "name": "stdout",
          "text": [
            "Epoch 1/100\n",
            "47/47 [==============================] - 0s 968us/step - loss: 0.4318 - accuracy: 0.8532\n",
            "Epoch 2/100\n",
            "47/47 [==============================] - 0s 985us/step - loss: 0.4590 - accuracy: 0.8511\n",
            "Epoch 3/100\n",
            "47/47 [==============================] - 0s 900us/step - loss: 0.4068 - accuracy: 0.8553\n",
            "Epoch 4/100\n",
            "47/47 [==============================] - 0s 895us/step - loss: 0.4774 - accuracy: 0.8532\n",
            "Epoch 5/100\n",
            "47/47 [==============================] - 0s 834us/step - loss: 0.4092 - accuracy: 0.8532\n",
            "Epoch 6/100\n",
            "47/47 [==============================] - 0s 869us/step - loss: 0.3940 - accuracy: 0.8511\n",
            "Epoch 7/100\n",
            "47/47 [==============================] - 0s 879us/step - loss: 0.4119 - accuracy: 0.8511\n",
            "Epoch 8/100\n",
            "47/47 [==============================] - 0s 934us/step - loss: 0.4213 - accuracy: 0.8511\n",
            "Epoch 9/100\n",
            "47/47 [==============================] - 0s 1ms/step - loss: 0.3801 - accuracy: 0.8553\n",
            "Epoch 10/100\n",
            "47/47 [==============================] - 0s 1ms/step - loss: 0.4084 - accuracy: 0.8574\n",
            "Epoch 11/100\n",
            "47/47 [==============================] - 0s 1ms/step - loss: 0.4103 - accuracy: 0.8489\n",
            "Epoch 12/100\n",
            "47/47 [==============================] - 0s 1ms/step - loss: 0.4309 - accuracy: 0.8553\n",
            "Epoch 13/100\n",
            "47/47 [==============================] - 0s 939us/step - loss: 0.4149 - accuracy: 0.8404\n",
            "Epoch 14/100\n",
            "47/47 [==============================] - 0s 975us/step - loss: 0.4611 - accuracy: 0.8277\n",
            "Epoch 15/100\n",
            "47/47 [==============================] - 0s 1ms/step - loss: 0.4396 - accuracy: 0.8596\n",
            "Epoch 16/100\n",
            "47/47 [==============================] - 0s 970us/step - loss: 0.4063 - accuracy: 0.8532\n",
            "Epoch 17/100\n",
            "47/47 [==============================] - 0s 884us/step - loss: 0.4107 - accuracy: 0.8383\n",
            "Epoch 18/100\n",
            "47/47 [==============================] - 0s 908us/step - loss: 0.4414 - accuracy: 0.8532\n",
            "Epoch 19/100\n",
            "47/47 [==============================] - 0s 911us/step - loss: 0.4183 - accuracy: 0.8511\n",
            "Epoch 20/100\n",
            "47/47 [==============================] - 0s 954us/step - loss: 0.4014 - accuracy: 0.8468\n",
            "Epoch 21/100\n",
            "47/47 [==============================] - 0s 1ms/step - loss: 0.3985 - accuracy: 0.8532\n",
            "Epoch 22/100\n",
            "47/47 [==============================] - 0s 892us/step - loss: 0.4275 - accuracy: 0.8511\n",
            "Epoch 23/100\n",
            "47/47 [==============================] - 0s 865us/step - loss: 0.3866 - accuracy: 0.8596\n",
            "Epoch 24/100\n",
            "47/47 [==============================] - 0s 844us/step - loss: 0.4402 - accuracy: 0.8340\n",
            "Epoch 25/100\n",
            "47/47 [==============================] - 0s 999us/step - loss: 0.4100 - accuracy: 0.8574\n",
            "Epoch 26/100\n",
            "47/47 [==============================] - 0s 955us/step - loss: 0.4225 - accuracy: 0.8511\n",
            "Epoch 27/100\n",
            "47/47 [==============================] - 0s 903us/step - loss: 0.4554 - accuracy: 0.8447\n",
            "Epoch 28/100\n",
            "47/47 [==============================] - 0s 959us/step - loss: 0.4034 - accuracy: 0.8489\n",
            "Epoch 29/100\n",
            "47/47 [==============================] - 0s 893us/step - loss: 0.4227 - accuracy: 0.8489\n",
            "Epoch 30/100\n",
            "47/47 [==============================] - 0s 977us/step - loss: 0.3855 - accuracy: 0.8532\n",
            "Epoch 31/100\n",
            "47/47 [==============================] - 0s 1ms/step - loss: 0.4297 - accuracy: 0.8489\n",
            "Epoch 32/100\n",
            "47/47 [==============================] - 0s 1ms/step - loss: 0.4011 - accuracy: 0.8553\n",
            "Epoch 33/100\n",
            "47/47 [==============================] - 0s 1ms/step - loss: 0.4490 - accuracy: 0.8532\n",
            "Epoch 34/100\n",
            "47/47 [==============================] - 0s 1ms/step - loss: 0.3909 - accuracy: 0.8574\n",
            "Epoch 35/100\n",
            "47/47 [==============================] - 0s 989us/step - loss: 0.4086 - accuracy: 0.8574\n",
            "Epoch 36/100\n",
            "47/47 [==============================] - 0s 956us/step - loss: 0.3962 - accuracy: 0.8574\n",
            "Epoch 37/100\n",
            "47/47 [==============================] - 0s 1ms/step - loss: 0.4498 - accuracy: 0.8511\n",
            "Epoch 38/100\n",
            "47/47 [==============================] - 0s 891us/step - loss: 0.4236 - accuracy: 0.8468\n",
            "Epoch 39/100\n",
            "47/47 [==============================] - 0s 1ms/step - loss: 0.4266 - accuracy: 0.8532\n",
            "Epoch 40/100\n",
            "47/47 [==============================] - 0s 980us/step - loss: 0.4081 - accuracy: 0.8468\n",
            "Epoch 41/100\n",
            "47/47 [==============================] - 0s 1ms/step - loss: 0.3984 - accuracy: 0.8660\n",
            "Epoch 42/100\n",
            "47/47 [==============================] - 0s 948us/step - loss: 0.4690 - accuracy: 0.8383\n",
            "Epoch 43/100\n",
            "47/47 [==============================] - 0s 857us/step - loss: 0.3923 - accuracy: 0.8489\n",
            "Epoch 44/100\n",
            "47/47 [==============================] - 0s 833us/step - loss: 0.3858 - accuracy: 0.8617\n",
            "Epoch 45/100\n",
            "47/47 [==============================] - 0s 883us/step - loss: 0.3895 - accuracy: 0.8553\n",
            "Epoch 46/100\n",
            "47/47 [==============================] - 0s 914us/step - loss: 0.3871 - accuracy: 0.8617\n",
            "Epoch 47/100\n",
            "47/47 [==============================] - 0s 801us/step - loss: 0.4047 - accuracy: 0.8362\n",
            "Epoch 48/100\n",
            "47/47 [==============================] - 0s 898us/step - loss: 0.3880 - accuracy: 0.8532\n",
            "Epoch 49/100\n",
            "47/47 [==============================] - 0s 882us/step - loss: 0.3817 - accuracy: 0.8553\n",
            "Epoch 50/100\n",
            "47/47 [==============================] - 0s 814us/step - loss: 0.3790 - accuracy: 0.8532\n",
            "Epoch 51/100\n",
            "47/47 [==============================] - 0s 880us/step - loss: 0.3903 - accuracy: 0.8617\n",
            "Epoch 52/100\n",
            "47/47 [==============================] - 0s 990us/step - loss: 0.3788 - accuracy: 0.8574\n",
            "Epoch 53/100\n",
            "47/47 [==============================] - 0s 909us/step - loss: 0.3858 - accuracy: 0.8532\n",
            "Epoch 54/100\n",
            "47/47 [==============================] - 0s 1ms/step - loss: 0.3858 - accuracy: 0.8574\n",
            "Epoch 55/100\n",
            "47/47 [==============================] - 0s 1ms/step - loss: 0.4022 - accuracy: 0.8532\n",
            "Epoch 56/100\n",
            "47/47 [==============================] - 0s 882us/step - loss: 0.3818 - accuracy: 0.8553\n",
            "Epoch 57/100\n",
            "47/47 [==============================] - 0s 858us/step - loss: 0.3830 - accuracy: 0.8574\n",
            "Epoch 58/100\n",
            "47/47 [==============================] - 0s 875us/step - loss: 0.3949 - accuracy: 0.8553\n",
            "Epoch 59/100\n",
            "47/47 [==============================] - 0s 894us/step - loss: 0.3832 - accuracy: 0.8596\n",
            "Epoch 60/100\n",
            "47/47 [==============================] - 0s 899us/step - loss: 0.3649 - accuracy: 0.8660\n",
            "Epoch 61/100\n",
            "47/47 [==============================] - 0s 997us/step - loss: 0.3759 - accuracy: 0.8681\n",
            "Epoch 62/100\n",
            "47/47 [==============================] - 0s 871us/step - loss: 0.3870 - accuracy: 0.8532\n",
            "Epoch 63/100\n",
            "47/47 [==============================] - 0s 871us/step - loss: 0.3917 - accuracy: 0.8574\n",
            "Epoch 64/100\n",
            "47/47 [==============================] - 0s 951us/step - loss: 0.4241 - accuracy: 0.8574\n",
            "Epoch 65/100\n",
            "47/47 [==============================] - 0s 855us/step - loss: 0.3738 - accuracy: 0.8617\n",
            "Epoch 66/100\n",
            "47/47 [==============================] - 0s 913us/step - loss: 0.4204 - accuracy: 0.8489\n",
            "Epoch 67/100\n",
            "47/47 [==============================] - 0s 885us/step - loss: 0.3873 - accuracy: 0.8702\n",
            "Epoch 68/100\n",
            "47/47 [==============================] - 0s 889us/step - loss: 0.4039 - accuracy: 0.8511\n",
            "Epoch 69/100\n",
            "47/47 [==============================] - 0s 1ms/step - loss: 0.4117 - accuracy: 0.8553\n",
            "Epoch 70/100\n",
            "47/47 [==============================] - 0s 1ms/step - loss: 0.3875 - accuracy: 0.8596\n",
            "Epoch 71/100\n",
            "47/47 [==============================] - 0s 850us/step - loss: 0.3680 - accuracy: 0.8638\n",
            "Epoch 72/100\n",
            "47/47 [==============================] - 0s 1ms/step - loss: 0.4184 - accuracy: 0.8383\n",
            "Epoch 73/100\n",
            "47/47 [==============================] - 0s 865us/step - loss: 0.4061 - accuracy: 0.8596\n",
            "Epoch 74/100\n",
            "47/47 [==============================] - 0s 926us/step - loss: 0.3719 - accuracy: 0.8638\n",
            "Epoch 75/100\n",
            "47/47 [==============================] - 0s 1ms/step - loss: 0.3751 - accuracy: 0.8660\n",
            "Epoch 76/100\n",
            "47/47 [==============================] - 0s 1ms/step - loss: 0.3996 - accuracy: 0.8617\n",
            "Epoch 77/100\n",
            "47/47 [==============================] - 0s 1ms/step - loss: 0.3857 - accuracy: 0.8511\n",
            "Epoch 78/100\n",
            "47/47 [==============================] - 0s 915us/step - loss: 0.4171 - accuracy: 0.8638\n",
            "Epoch 79/100\n",
            "47/47 [==============================] - 0s 963us/step - loss: 0.3920 - accuracy: 0.8447\n",
            "Epoch 80/100\n",
            "47/47 [==============================] - 0s 910us/step - loss: 0.3761 - accuracy: 0.8638\n",
            "Epoch 81/100\n",
            "47/47 [==============================] - 0s 942us/step - loss: 0.4105 - accuracy: 0.8511\n",
            "Epoch 82/100\n",
            "47/47 [==============================] - 0s 913us/step - loss: 0.4385 - accuracy: 0.8511\n",
            "Epoch 83/100\n",
            "47/47 [==============================] - 0s 1ms/step - loss: 0.3930 - accuracy: 0.8596\n",
            "Epoch 84/100\n",
            "47/47 [==============================] - 0s 878us/step - loss: 0.3986 - accuracy: 0.8511\n",
            "Epoch 85/100\n",
            "47/47 [==============================] - 0s 884us/step - loss: 0.3801 - accuracy: 0.8574\n",
            "Epoch 86/100\n",
            "47/47 [==============================] - 0s 1ms/step - loss: 0.3706 - accuracy: 0.8660\n",
            "Epoch 87/100\n",
            "47/47 [==============================] - 0s 874us/step - loss: 0.3865 - accuracy: 0.8447\n",
            "Epoch 88/100\n",
            "47/47 [==============================] - 0s 879us/step - loss: 0.3675 - accuracy: 0.8574\n",
            "Epoch 89/100\n",
            "47/47 [==============================] - 0s 900us/step - loss: 0.3728 - accuracy: 0.8532\n",
            "Epoch 90/100\n",
            "47/47 [==============================] - 0s 866us/step - loss: 0.3948 - accuracy: 0.8702\n",
            "Epoch 91/100\n",
            "47/47 [==============================] - 0s 943us/step - loss: 0.4306 - accuracy: 0.8383\n",
            "Epoch 92/100\n",
            "47/47 [==============================] - 0s 1ms/step - loss: 0.3831 - accuracy: 0.8660\n",
            "Epoch 93/100\n",
            "47/47 [==============================] - 0s 989us/step - loss: 0.3987 - accuracy: 0.8574\n",
            "Epoch 94/100\n",
            "47/47 [==============================] - 0s 987us/step - loss: 0.3920 - accuracy: 0.8638\n",
            "Epoch 95/100\n",
            "47/47 [==============================] - 0s 902us/step - loss: 0.3657 - accuracy: 0.8660\n",
            "Epoch 96/100\n",
            "47/47 [==============================] - 0s 950us/step - loss: 0.4403 - accuracy: 0.8426\n",
            "Epoch 97/100\n",
            "47/47 [==============================] - 0s 864us/step - loss: 0.4091 - accuracy: 0.8404\n",
            "Epoch 98/100\n",
            "47/47 [==============================] - 0s 927us/step - loss: 0.3840 - accuracy: 0.8574\n",
            "Epoch 99/100\n",
            "47/47 [==============================] - 0s 1ms/step - loss: 0.4046 - accuracy: 0.8617\n",
            "Epoch 100/100\n",
            "47/47 [==============================] - 0s 1ms/step - loss: 0.3648 - accuracy: 0.8617\n"
          ]
        }
      ]
    },
    {
      "cell_type": "code",
      "metadata": {
        "colab": {
          "base_uri": "https://localhost:8080/"
        },
        "id": "Mm5wQAQ_TrUA",
        "outputId": "cb49b0bb-5890-4fb9-ab84-04c808cbc3b5"
      },
      "source": [
        "from sklearn.metrics import classification_report\n",
        "\n",
        "pred_prob = model.predict(X)\n",
        "pred_classes = np.argmax(pred_prob, axis=1)\n",
        "\n",
        "print(classification_report(Y, pred_classes))"
      ],
      "execution_count": 33,
      "outputs": [
        {
          "output_type": "stream",
          "name": "stdout",
          "text": [
            "              precision    recall  f1-score   support\n",
            "\n",
            "         0.0       0.87      0.99      0.93       400\n",
            "         1.0       0.80      0.11      0.20        70\n",
            "\n",
            "    accuracy                           0.86       470\n",
            "   macro avg       0.83      0.55      0.56       470\n",
            "weighted avg       0.86      0.86      0.82       470\n",
            "\n"
          ]
        }
      ]
    },
    {
      "cell_type": "markdown",
      "metadata": {
        "id": "W4ANSyoSGKrH"
      },
      "source": [
        "### 참고: from_logits의 기능"
      ]
    },
    {
      "cell_type": "code",
      "metadata": {
        "colab": {
          "base_uri": "https://localhost:8080/"
        },
        "id": "fQuULzg_7FuW",
        "outputId": "813a4b53-8a5d-4597-edd4-ab06743ea8df"
      },
      "source": [
        "# Case 1-1\n",
        "cce = tf.keras.losses.CategoricalCrossentropy(from_logits = True)\n",
        "\n",
        "target = [[1., 0., 0.], [0., 1., 0.], [0., 0., 1.]] \n",
        "output = [[7., 2., 1.], [3., 9., 2.], [5., 1., 9.]]\n",
        "\n",
        "loss = cce(target, output)\n",
        "\n",
        "print(loss.numpy())"
      ],
      "execution_count": null,
      "outputs": [
        {
          "output_type": "stream",
          "name": "stdout",
          "text": [
            "0.010346199\n"
          ]
        }
      ]
    },
    {
      "cell_type": "code",
      "metadata": {
        "colab": {
          "base_uri": "https://localhost:8080/"
        },
        "id": "zzAtYFG-7VX2",
        "outputId": "8e485aca-b266-4e91-c579-94920337bef5"
      },
      "source": [
        "# Case 1-2\n",
        "cce = tf.keras.losses.CategoricalCrossentropy()\n",
        "\n",
        "target = [[1., 0., 0.], [0., 1., 0.], [0., 0., 1.]] \n",
        "output = [[7., 2., 1.], [3., 9., 2.], [5., 1., 9.]]\n",
        "\n",
        "loss = cce(target, output)\n",
        "\n",
        "print(loss.numpy())"
      ],
      "execution_count": null,
      "outputs": [
        {
          "output_type": "stream",
          "name": "stdout",
          "text": [
            "0.43644443\n"
          ]
        }
      ]
    },
    {
      "cell_type": "code",
      "metadata": {
        "colab": {
          "base_uri": "https://localhost:8080/"
        },
        "id": "eD-f_BHz7gj1",
        "outputId": "09dbde63-fe4d-4e5a-df42-cf7ab0efb1db"
      },
      "source": [
        "# Case 2-1\n",
        "cce = tf.keras.losses.CategoricalCrossentropy(from_logits = True)\n",
        "\n",
        "target = [[1., 0., 0.], [0., 1., 0.], [0., 0., 1.]] \n",
        "output = [[1., 0., 0.], [.05, .89, .06], [.05, .01, .94]]\n",
        "\n",
        "loss = cce(target, output)\n",
        "\n",
        "print(loss.numpy())"
      ],
      "execution_count": null,
      "outputs": [
        {
          "output_type": "stream",
          "name": "stdout",
          "text": [
            "0.5889537\n"
          ]
        }
      ]
    },
    {
      "cell_type": "code",
      "metadata": {
        "colab": {
          "base_uri": "https://localhost:8080/"
        },
        "id": "vOBZPiE_7jCC",
        "outputId": "f2801d2e-211c-4b34-8ea2-8c11922a1686"
      },
      "source": [
        "# Case 2-2\n",
        "cce = tf.keras.losses.CategoricalCrossentropy(from_logits = False)\n",
        "\n",
        "target = [[1., 0., 0.], [0., 1., 0.], [0., 0., 1.]] \n",
        "output = [[1., 0., 0.], [.05, .89, .06], [.05, .01, .94]]\n",
        "\n",
        "loss = cce(target, output)\n",
        "\n",
        "print(loss.numpy())"
      ],
      "execution_count": null,
      "outputs": [
        {
          "output_type": "stream",
          "name": "stdout",
          "text": [
            "0.059469786\n"
          ]
        }
      ]
    }
  ]
}